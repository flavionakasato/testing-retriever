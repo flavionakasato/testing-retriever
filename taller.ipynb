{
 "cells": [
  {
   "cell_type": "markdown",
   "metadata": {},
   "source": [
    "Develop a Python script that:\n",
    "1- Reads and preprocesses customer service conversations from a CSV file.\n",
    "2- Generates embeddings for customer messages using sentence-transformers.\n",
    "3- Stores embeddings in a vector database (FAISS) for fast similarity search.\n",
    "4- Implements a function to retrieve the top 3 most relevant responses based on a user query.\n",
    "ID\tcustomer_message\t\t\t\t\t\t\t\t\t\tagent_response\n",
    "1\t\"My order hasn’t arrived yet. Can you check?\"\t\t\t\"I’m sorry for the delay! Can you provide your order number?\"\n",
    "2\t\"I need to reset my password but the link is broken.\"\t\"I understand. Let me generate a new reset link for you.\"\n",
    "3\t\"Do you have a refund policy?\"\t\t\t\t\t\t\t\"Yes! We offer a 30-day money-back guarantee. Would you like me to process a refund?\"\n",
    "4\t\"The product I received is defective.\"\t\t\t\t\t\"I'm sorry to hear that. We can arrange a replacement or ref\n",
    "4\t\"The product I received is defective.\"\t\t\t\t\t\"I'm sorry to hear that. We can arrange a replacement or refund. What would you prefer?\"\n",
    "5\t\"How can I contact support?\"\t\t\t\t\t\t\t\"You can reach us via email at support@example.com or call our helpline.\""
   ]
  },
  {
   "cell_type": "markdown",
   "metadata": {},
   "source": [
    "## 1. Reading data source"
   ]
  },
  {
   "cell_type": "code",
   "execution_count": 35,
   "metadata": {},
   "outputs": [
    {
     "data": {
      "text/html": [
       "<div>\n",
       "<style scoped>\n",
       "    .dataframe tbody tr th:only-of-type {\n",
       "        vertical-align: middle;\n",
       "    }\n",
       "\n",
       "    .dataframe tbody tr th {\n",
       "        vertical-align: top;\n",
       "    }\n",
       "\n",
       "    .dataframe thead th {\n",
       "        text-align: right;\n",
       "    }\n",
       "</style>\n",
       "<table border=\"1\" class=\"dataframe\">\n",
       "  <thead>\n",
       "    <tr style=\"text-align: right;\">\n",
       "      <th></th>\n",
       "      <th>ID</th>\n",
       "      <th>customer_message</th>\n",
       "      <th>agent_response</th>\n",
       "    </tr>\n",
       "  </thead>\n",
       "  <tbody>\n",
       "    <tr>\n",
       "      <th>0</th>\n",
       "      <td>1</td>\n",
       "      <td>\"My order hasn’t arrived yet. Can you check?\"</td>\n",
       "      <td>\"I’m sorry for the delay! Can you provide you...</td>\n",
       "    </tr>\n",
       "    <tr>\n",
       "      <th>1</th>\n",
       "      <td>2</td>\n",
       "      <td>\"I need to reset my password but the link is ...</td>\n",
       "      <td>\"I understand. Let me generate a new reset li...</td>\n",
       "    </tr>\n",
       "    <tr>\n",
       "      <th>2</th>\n",
       "      <td>3</td>\n",
       "      <td>\"Do you have a refund policy?\"</td>\n",
       "      <td>\"Yes! We offer a 30-day money-back guarantee....</td>\n",
       "    </tr>\n",
       "  </tbody>\n",
       "</table>\n",
       "</div>"
      ],
      "text/plain": [
       "   ID                                   customer_message  \\\n",
       "0   1      \"My order hasn’t arrived yet. Can you check?\"   \n",
       "1   2   \"I need to reset my password but the link is ...   \n",
       "2   3                     \"Do you have a refund policy?\"   \n",
       "\n",
       "                                      agent_response  \n",
       "0   \"I’m sorry for the delay! Can you provide you...  \n",
       "1   \"I understand. Let me generate a new reset li...  \n",
       "2   \"Yes! We offer a 30-day money-back guarantee....  "
      ]
     },
     "execution_count": 35,
     "metadata": {},
     "output_type": "execute_result"
    }
   ],
   "source": [
    "import pandas as pd\n",
    "\n",
    "df = pd.read_csv('customer.csv', sep=',')\n",
    "df.shape\n",
    "df.head(3)"
   ]
  },
  {
   "cell_type": "code",
   "execution_count": 36,
   "metadata": {},
   "outputs": [
    {
     "data": {
      "text/plain": [
       "[' I’m sorry for the delay! Can you provide your order number?',\n",
       " ' I understand. Let me generate a new reset link for you.',\n",
       " ' Yes! We offer a 30-day money-back guarantee. Would you like me to process a refund?',\n",
       " \" I'm sorry to hear that. We can arrange a replacement or ref\",\n",
       " \" I'm sorry to hear that. We can arrange a replacement or refund. What would you prefer?\",\n",
       " ' You can reach us via email at support@example.com or call our helpline.']"
      ]
     },
     "execution_count": 36,
     "metadata": {},
     "output_type": "execute_result"
    }
   ],
   "source": [
    "customer_msgs = list(df['agent_response'])\n",
    "customer_msgs = [s.replace('\"', '') for s in customer_msgs]\n",
    "customer_msgs"
   ]
  },
  {
   "cell_type": "markdown",
   "metadata": {},
   "source": [
    "## Generating embeddings for customer messages"
   ]
  },
  {
   "cell_type": "code",
   "execution_count": 37,
   "metadata": {},
   "outputs": [],
   "source": [
    "from sentence_transformers import SentenceTransformer\n",
    "\n",
    "# Load the pre-trained model\n",
    "model = SentenceTransformer('paraphrase-MiniLM-L6-v2')"
   ]
  },
  {
   "cell_type": "code",
   "execution_count": 38,
   "metadata": {},
   "outputs": [
    {
     "name": "stdout",
     "output_type": "stream",
     "text": [
      "Embeddings shape: (6, 384)\n"
     ]
    }
   ],
   "source": [
    "embeddings = model.encode(customer_msgs)\n",
    "print(f\"Embeddings shape: {embeddings.shape}\")"
   ]
  },
  {
   "cell_type": "code",
   "execution_count": 39,
   "metadata": {},
   "outputs": [
    {
     "data": {
      "text/plain": [
       "array([[-0.4136008 , -0.00662601,  0.3042746 , ..., -0.61076784,\n",
       "        -0.21803936, -0.01262602],\n",
       "       [-0.70867133, -0.3809409 ,  0.15109436, ...,  0.5913447 ,\n",
       "        -0.0804904 , -0.34057817],\n",
       "       [-0.40036717, -0.10858591,  0.12255137, ..., -0.25375068,\n",
       "         0.13183513, -0.01804513],\n",
       "       [-0.66004777,  0.02018758,  0.31692493, ..., -0.02357097,\n",
       "         0.8902247 , -0.01102751],\n",
       "       [-0.46169487, -0.12921603,  0.47223616, ..., -0.15604918,\n",
       "         0.4272553 ,  0.06497989],\n",
       "       [-0.56212497, -0.4405592 , -0.09126253, ..., -0.12221459,\n",
       "         0.31684357,  0.03616011]], shape=(6, 384), dtype=float32)"
      ]
     },
     "execution_count": 39,
     "metadata": {},
     "output_type": "execute_result"
    }
   ],
   "source": [
    "embeddings"
   ]
  },
  {
   "cell_type": "markdown",
   "metadata": {},
   "source": [
    "## Storing vectors in a FAISS database"
   ]
  },
  {
   "cell_type": "code",
   "execution_count": 40,
   "metadata": {},
   "outputs": [],
   "source": [
    "import faiss\n",
    "\n",
    "# Dimensions of our embeddings\n",
    "d = embeddings.shape[1]\n",
    "\n",
    "# Creating an index for our dense vectors\n",
    "index = faiss.IndexFlatL2(d)  # Using L2 (Euclidean) distance"
   ]
  },
  {
   "cell_type": "code",
   "execution_count": 41,
   "metadata": {},
   "outputs": [
    {
     "name": "stdout",
     "output_type": "stream",
     "text": [
      "Total sentences indexed: 6\n"
     ]
    }
   ],
   "source": [
    "# Adding the embeddings to the index\n",
    "index.add(embeddings)\n",
    "\n",
    "print(f\"Total sentences indexed: {index.ntotal}\")"
   ]
  },
  {
   "cell_type": "markdown",
   "metadata": {},
   "source": [
    "## Testing querying our FAISS DB"
   ]
  },
  {
   "cell_type": "code",
   "execution_count": 42,
   "metadata": {},
   "outputs": [
    {
     "data": {
      "text/plain": [
       "(1, 384)"
      ]
     },
     "execution_count": 42,
     "metadata": {},
     "output_type": "execute_result"
    }
   ],
   "source": [
    "query_sentence = \"I wanna reset my passwod\"\n",
    "query_embedding = model.encode([query_sentence])\n",
    "query_embedding.shape"
   ]
  },
  {
   "cell_type": "code",
   "execution_count": 43,
   "metadata": {},
   "outputs": [
    {
     "name": "stdout",
     "output_type": "stream",
     "text": [
      "Distances: [[54.96907 62.21291 64.50435]] | Indices: [[1 3 4]]\n"
     ]
    }
   ],
   "source": [
    "k = 3\n",
    "distances, indices = index.search(query_embedding, k)\n",
    "print(f'Distances: {distances} | Indices: {indices}')"
   ]
  },
  {
   "cell_type": "code",
   "execution_count": 44,
   "metadata": {},
   "outputs": [
    {
     "name": "stdout",
     "output_type": "stream",
     "text": [
      "Most similar sentences:\n",
      "1:  I understand. Let me generate a new reset link for you. (Distance: 54.96907043457031)\n",
      "2:  I'm sorry to hear that. We can arrange a replacement or ref (Distance: 62.21290969848633)\n",
      "3:  I'm sorry to hear that. We can arrange a replacement or refund. What would you prefer? (Distance: 64.50434875488281)\n"
     ]
    }
   ],
   "source": [
    "print(\"Most similar sentences:\")\n",
    "for i, idx in enumerate(indices[0]):\n",
    "    print(f\"{i + 1}: {customer_msgs[idx]} (Distance: {distances[0][i]})\")"
   ]
  }
 ],
 "metadata": {
  "kernelspec": {
   "display_name": "env",
   "language": "python",
   "name": "python3"
  },
  "language_info": {
   "codemirror_mode": {
    "name": "ipython",
    "version": 3
   },
   "file_extension": ".py",
   "mimetype": "text/x-python",
   "name": "python",
   "nbconvert_exporter": "python",
   "pygments_lexer": "ipython3",
   "version": "3.12.3"
  }
 },
 "nbformat": 4,
 "nbformat_minor": 2
}
